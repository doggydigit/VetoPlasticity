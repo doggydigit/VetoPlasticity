{
 "cells": [
  {
   "cell_type": "code",
   "execution_count": 4,
   "metadata": {},
   "outputs": [
    {
     "ename": "AttributeError",
     "evalue": "'module' object has no attribute 'Visual_plasticity_parameters'",
     "output_type": "error",
     "traceback": [
      "\u001b[0;31m---------------------------------------------------------------------------\u001b[0m",
      "\u001b[0;31mAttributeError\u001b[0m                            Traceback (most recent call last)",
      "\u001b[0;32m<ipython-input-4-618a384630a0>\u001b[0m in \u001b[0;36m<module>\u001b[0;34m()\u001b[0m\n\u001b[1;32m      3\u001b[0m \u001b[0;32mfrom\u001b[0m \u001b[0mrun_experiment\u001b[0m \u001b[0;32mimport\u001b[0m \u001b[0;34m*\u001b[0m\u001b[0;34m\u001b[0m\u001b[0m\n\u001b[1;32m      4\u001b[0m \u001b[0;32mfrom\u001b[0m \u001b[0mplot_triplet_parameters\u001b[0m \u001b[0;32mimport\u001b[0m \u001b[0;34m*\u001b[0m\u001b[0;34m\u001b[0m\u001b[0m\n\u001b[0;32m----> 5\u001b[0;31m \u001b[0;32mfrom\u001b[0m \u001b[0mmain_runner\u001b[0m \u001b[0;32mimport\u001b[0m \u001b[0;34m*\u001b[0m\u001b[0;34m\u001b[0m\u001b[0m\n\u001b[0m\u001b[1;32m      6\u001b[0m \u001b[0;32mfrom\u001b[0m \u001b[0mbrian2\u001b[0m \u001b[0;32mimport\u001b[0m \u001b[0;34m*\u001b[0m\u001b[0;34m\u001b[0m\u001b[0m\n\u001b[1;32m      7\u001b[0m \u001b[0;32mimport\u001b[0m \u001b[0mrandom\u001b[0m\u001b[0;34m\u001b[0m\u001b[0m\n",
      "\u001b[0;32m/home/chi/Documents/Study/LCN/project/src/main_runner.py\u001b[0m in \u001b[0;36m<module>\u001b[0;34m()\u001b[0m\n\u001b[1;32m      7\u001b[0m \u001b[0;34m\u001b[0m\u001b[0m\n\u001b[1;32m      8\u001b[0m def main_runner(save_in_path = False, path = None, show_fig = True, spike_plot = False,\n\u001b[0;32m----> 9\u001b[0;31m                                 \u001b[0mclopath\u001b[0m \u001b[0;34m=\u001b[0m \u001b[0mFalse\u001b[0m\u001b[0;34m,\u001b[0m \u001b[0mtriplet_parameters\u001b[0m \u001b[0;34m=\u001b[0m \u001b[0mwc\u001b[0m\u001b[0;34m.\u001b[0m\u001b[0mVisual_plasticity_parameters\u001b[0m\u001b[0;34m,\u001b[0m\u001b[0;34m\u001b[0m\u001b[0m\n\u001b[0m\u001b[1;32m     10\u001b[0m                                 \u001b[0mpre_neuron_parameters\u001b[0m \u001b[0;34m=\u001b[0m \u001b[0mwc\u001b[0m\u001b[0;34m.\u001b[0m\u001b[0mziegler_pre_parameters\u001b[0m\u001b[0;34m,\u001b[0m \u001b[0mpost_neuron_parameters\u001b[0m \u001b[0;34m=\u001b[0m \u001b[0mwc\u001b[0m\u001b[0;34m.\u001b[0m\u001b[0mziegler_post_parameters\u001b[0m\u001b[0;34m,\u001b[0m\u001b[0;34m\u001b[0m\u001b[0m\n\u001b[1;32m     11\u001b[0m                                 \u001b[0mpoisson_pop\u001b[0m \u001b[0;34m=\u001b[0m \u001b[0mFalse\u001b[0m\u001b[0;34m,\u001b[0m\u001b[0;34m\u001b[0m\u001b[0m\n",
      "\u001b[0;31mAttributeError\u001b[0m: 'module' object has no attribute 'Visual_plasticity_parameters'"
     ]
    }
   ],
   "source": [
    "import weight_class as wc\n",
    "import matplotlib.pyplot as plt\n",
    "from run_experiment import *\n",
    "from plot_triplet_parameters import *\n",
    "from main_runner import *\n",
    "from brian2 import *\n",
    "import random"
   ]
  },
  {
   "cell_type": "markdown",
   "metadata": {},
   "source": [
    "### Run the simulation"
   ]
  },
  {
   "cell_type": "markdown",
   "metadata": {},
   "source": [
    "####  A) Simulation with different Nb at 1Hz"
   ]
  },
  {
   "cell_type": "code",
   "execution_count": 2,
   "metadata": {
    "scrolled": true
   },
   "outputs": [
    {
     "name": "stderr",
     "output_type": "stream",
     "text": [
      "INFO       The synaptic equation for the variable pre_x_trace_LTP does not specify whether it should be integrated at every timestep (\"clock-driven\") or only at spiking events (\"event-driven\"). It will be integrated at every timestep which can slow down your simulation unnecessarily if you only need the values of this variable whenever a spike occurs. Specify the equation as clock-driven explicitly to avoid this warning. [brian2.synapses.synapses.clock_driven]\n",
      "INFO       The synaptic equation for the variable pre_x_trace_LTD does not specify whether it should be integrated at every timestep (\"clock-driven\") or only at spiking events (\"event-driven\"). It will be integrated at every timestep which can slow down your simulation unnecessarily if you only need the values of this variable whenever a spike occurs. Specify the equation as clock-driven explicitly to avoid this warning. [brian2.synapses.synapses.clock_driven]\n",
      "INFO       The synaptic equation for the variable w_ampa does not specify whether it should be integrated at every timestep (\"clock-driven\") or only at spiking events (\"event-driven\"). It will be integrated at every timestep which can slow down your simulation unnecessarily if you only need the values of this variable whenever a spike occurs. Specify the equation as clock-driven explicitly to avoid this warning. [brian2.synapses.synapses.clock_driven]\n",
      "WARNING    Cannot use Cython, a test compilation failed: Cython is not available (ImportError) [brian2.codegen.runtime.cython_rt.cython_rt.failed_compile_test]\n",
      "INFO       Cannot use compiled code, falling back to the numpy code generation target. Note that this will likely be slower than using compiled code. Set the code generation to numpy manually to avoid this message:\n",
      "prefs.codegen.target = \"numpy\" [brian2.devices.device.codegen_fallback]\n"
     ]
    },
    {
     "name": "stdout",
     "output_type": "stream",
     "text": [
      "Running experiment without adaptation\n",
      "SIMULATION NUMBER 1/4 OF RUN NUMBER 1/3\n",
      "varying parameter is N_b\n",
      "Value of N_b=10\n",
      "TRYING TO MAKE VETO WORK!\n",
      "('plasticity_parameters are', {'A_LTP': 0.0075, 'x_trace_LTD': 0.0, 'w_max': 1.0, 'Theta_low': 1.7 * mvolt, 'x_reset': 1.0, 'x_trace_LTP': 0.0, 'v_lowpass2': -70. * mvolt, 'tau_homeo': 1. * second, 'a_prot': 0.18, 'PlasticityRule': 'Clopath', 'v_increase_init': 2. * mvolt, 'ampa_max_cond': 50. * nsiemens, 'tau_lowpass1': 68. * msecond, 'v_homeo': 0, 'A_LTD': 0.0002, 'v_target': 12. * mvolt2, 'tau_lowpass2': 210. * msecond, 'init_weight': 0.5, 'v_lowpass1': -70. * mvolt})\n",
      "Before calibration: 100 presynaptic neurons, 10 postsynaptic neurons, the shape of the weights is (103,)....\n",
      "***********************************\n",
      "Calibration amplitude is 1\n",
      "***********************************\n",
      "Running with initial weight = 0.5\n"
     ]
    },
    {
     "name": "stderr",
     "output_type": "stream",
     "text": [
      "INFO       No numerical integration method specified for group 'synapses_1', using method 'euler' (took 0.02s, trying other methods took 0.04s). [brian2.stateupdaters.base.method_choice]\n"
     ]
    },
    {
     "name": "stdout",
     "output_type": "stream",
     "text": [
      "Starting simulation at t=0. s for a duration of 18.98049506 ms\n",
      "0.018980495061 (100%) simulated in < 1s\n"
     ]
    },
    {
     "name": "stderr",
     "output_type": "stream",
     "text": [
      "INFO       No numerical integration method specified for group 'synapses_2', using method 'euler' (took 0.01s, trying other methods took 0.01s). [brian2.stateupdaters.base.method_choice]\n"
     ]
    },
    {
     "name": "stdout",
     "output_type": "stream",
     "text": [
      "Starting simulation at t=0. s for a duration of 21.27686011 ms\n",
      "0.0212768601113 (100%) simulated in < 1s\n",
      "Starting simulation at t=0. s for a duration of 21.17579246 ms\n",
      "0.0211757924596 (100%) simulated in < 1s\n",
      "***********************************\n",
      "Initial weight set to 0.125, which gives a postsynaptic response of 1.93816708 mV. Number of iterations: 3\n",
      "***********************************\n",
      "***********************************\n",
      "Initial weight is 0.125\n",
      "***********************************\n",
      "Running with calibration_amplitude = 1\n"
     ]
    },
    {
     "name": "stderr",
     "output_type": "stream",
     "text": [
      "INFO       No numerical integration method specified for group 'synapses_1', using method 'euler' (took 0.01s, trying other methods took 0.01s). [brian2.stateupdaters.base.method_choice]\n"
     ]
    },
    {
     "name": "stdout",
     "output_type": "stream",
     "text": [
      "Starting simulation at t=0. s for a duration of 18.7081685 ms\n",
      "0.0187081685042 (100%) simulated in < 1s\n"
     ]
    },
    {
     "name": "stderr",
     "output_type": "stream",
     "text": [
      "INFO       No numerical integration method specified for group 'synapses_2', using method 'euler' (took 0.01s, trying other methods took 0.01s). [brian2.stateupdaters.base.method_choice]\n"
     ]
    },
    {
     "name": "stdout",
     "output_type": "stream",
     "text": [
      "Starting simulation at t=0. s for a duration of 16.89853399 ms\n",
      "0.016898533992 (100%) simulated in < 1s\n",
      "Starting simulation at t=0. s for a duration of 19.23212762 ms\n",
      "0.0192321276223 (100%) simulated in < 1s\n",
      "Starting simulation at t=0. s for a duration of 22.7085851 ms\n",
      "0.0227085851049 (100%) simulated in < 1s\n",
      "***********************************\n",
      "Stimulation amplitude (fraction) set to 0.875, which gives a postsynaptic firing fraction of 0.2. Number of iterations: 4\n",
      "***********************************\n",
      "Running with 100 presynaptic neurons, 10 postsynaptic neurons, the shape of the weights is (103,)....\n"
     ]
    },
    {
     "name": "stderr",
     "output_type": "stream",
     "text": [
      "INFO       No numerical integration method specified for group 'synapses_1', using method 'euler' (took 0.02s, trying other methods took 0.02s). [brian2.stateupdaters.base.method_choice]\n"
     ]
    },
    {
     "name": "stdout",
     "output_type": "stream",
     "text": [
      "Starting simulation at t=0. s for a duration of 9.01930344 s\n",
      "4.8607 (53%) simulated in 10s, estimated 9s remaining.\n",
      "9.01930344242 (100%) simulated in 18s\n",
      "('Mean w at the end of the simulation : ', 0.1257711593390114)\n",
      "('OBTAINED RESULT FOR SIMULATION ', 1, ' OF RUN ', 1)\n",
      "SIMULATION NUMBER 2/4 OF RUN NUMBER 1/3\n",
      "varying parameter is N_b\n",
      "Value of N_b=20\n",
      "TRYING TO MAKE VETO WORK!\n",
      "('plasticity_parameters are', {'A_LTP': 0.0075, 'x_trace_LTD': 0.0, 'w_max': 1.0, 'Theta_low': 1.7 * mvolt, 'x_reset': 1.0, 'x_trace_LTP': 0.0, 'v_lowpass2': -70. * mvolt, 'tau_homeo': 1. * second, 'a_prot': 0.18, 'PlasticityRule': 'Clopath', 'v_increase_init': 2. * mvolt, 'ampa_max_cond': 50. * nsiemens, 'tau_lowpass1': 68. * msecond, 'v_homeo': 0, 'A_LTD': 0.0002, 'v_target': 12. * mvolt2, 'tau_lowpass2': 210. * msecond, 'init_weight': 0.125, 'v_lowpass1': -70. * mvolt})\n",
      "Before calibration: 100 presynaptic neurons, 10 postsynaptic neurons, the shape of the weights is (103,)....\n",
      "***********************************\n",
      "Calibration amplitude is 0.875\n",
      "***********************************\n",
      "Running with initial weight = 0.125\n",
      "Starting simulation at t=0. s for a duration of 20.72192753 ms\n",
      "0.0207219275333 (100%) simulated in < 1s\n",
      "***********************************\n",
      "Initial weight set to 0.125, which gives a postsynaptic response of 1.93816708 mV. Number of iterations: 1\n",
      "***********************************\n",
      "***********************************\n",
      "Initial weight is 0.125\n",
      "***********************************\n",
      "Running with calibration_amplitude = 1\n"
     ]
    },
    {
     "name": "stderr",
     "output_type": "stream",
     "text": [
      "INFO       No numerical integration method specified for group 'synapses_2', using method 'euler' (took 0.01s, trying other methods took 0.02s). [brian2.stateupdaters.base.method_choice]\n"
     ]
    },
    {
     "name": "stdout",
     "output_type": "stream",
     "text": [
      "Starting simulation at t=0. s for a duration of 23.10836246 ms\n",
      "0.0231083624613 (100%) simulated in < 1s\n"
     ]
    },
    {
     "name": "stderr",
     "output_type": "stream",
     "text": [
      "INFO       No numerical integration method specified for group 'synapses_3', using method 'euler' (took 0.01s, trying other methods took 0.01s). [brian2.stateupdaters.base.method_choice]\n"
     ]
    },
    {
     "name": "stdout",
     "output_type": "stream",
     "text": [
      "Starting simulation at t=0. s for a duration of 19.61662191 ms\n",
      "0.0196166219118 (100%) simulated in < 1s\n",
      "Starting simulation at t=0. s for a duration of 19.02844004 ms\n",
      "0.0190284400426 (100%) simulated in < 1s\n",
      "Starting simulation at t=0. s for a duration of 16.77535381 ms\n",
      "0.0167753538083 (100%) simulated in < 1s\n",
      "***********************************\n",
      "Stimulation amplitude (fraction) set to 0.875, which gives a postsynaptic firing fraction of 0.2. Number of iterations: 4\n",
      "***********************************\n",
      "Running with 100 presynaptic neurons, 10 postsynaptic neurons, the shape of the weights is (103,)....\n",
      "Starting simulation at t=0. s for a duration of 19.01958539 s\n",
      "4.6485 (24%) simulated in 10s, estimated 31s remaining.\n",
      "9.3234 (49%) simulated in 20s, estimated 21s remaining.\n",
      "14.0545 (73%) simulated in 30s, estimated 11s remaining.\n",
      "18.9766 (99%) simulated in 40s, estimated < 1s remaining.\n",
      "19.0195853934 (100%) simulated in 40s\n",
      "('Mean w at the end of the simulation : ', 0.1264440367261343)\n",
      "('OBTAINED RESULT FOR SIMULATION ', 2, ' OF RUN ', 1)\n",
      "SIMULATION NUMBER 3/4 OF RUN NUMBER 1/3\n",
      "varying parameter is N_b\n",
      "Value of N_b=30\n",
      "TRYING TO MAKE VETO WORK!\n",
      "('plasticity_parameters are', {'A_LTP': 0.0075, 'x_trace_LTD': 0.0, 'w_max': 1.0, 'Theta_low': 1.7 * mvolt, 'x_reset': 1.0, 'x_trace_LTP': 0.0, 'v_lowpass2': -70. * mvolt, 'tau_homeo': 1. * second, 'a_prot': 0.18, 'PlasticityRule': 'Clopath', 'v_increase_init': 2. * mvolt, 'ampa_max_cond': 50. * nsiemens, 'tau_lowpass1': 68. * msecond, 'v_homeo': 0, 'A_LTD': 0.0002, 'v_target': 12. * mvolt2, 'tau_lowpass2': 210. * msecond, 'init_weight': 0.125, 'v_lowpass1': -70. * mvolt})\n",
      "Before calibration: 100 presynaptic neurons, 10 postsynaptic neurons, the shape of the weights is (103,)....\n",
      "***********************************\n",
      "Calibration amplitude is 0.875\n",
      "***********************************\n"
     ]
    },
    {
     "name": "stderr",
     "output_type": "stream",
     "text": [
      "INFO       No numerical integration method specified for group 'synapses_1', using method 'euler' (took 0.01s, trying other methods took 0.01s). [brian2.stateupdaters.base.method_choice]\n"
     ]
    },
    {
     "name": "stdout",
     "output_type": "stream",
     "text": [
      "Running with initial weight = 0.125\n",
      "Starting simulation at t=0. s for a duration of 20.55043453 ms\n",
      "0.0205504345323 (100%) simulated in < 1s\n",
      "***********************************\n",
      "Initial weight set to 0.125, which gives a postsynaptic response of 1.93816708 mV. Number of iterations: 1\n",
      "***********************************\n",
      "***********************************\n",
      "Initial weight is 0.125\n",
      "***********************************\n",
      "Running with calibration_amplitude = 1\n",
      "Starting simulation at t=0. s for a duration of 20.61867074 ms\n",
      "0.0206186707427 (100%) simulated in < 1s\n"
     ]
    },
    {
     "name": "stderr",
     "output_type": "stream",
     "text": [
      "INFO       No numerical integration method specified for group 'synapses_3', using method 'euler' (took 0.01s, trying other methods took 0.01s). [brian2.stateupdaters.base.method_choice]\n"
     ]
    },
    {
     "name": "stdout",
     "output_type": "stream",
     "text": [
      "Starting simulation at t=0. s for a duration of 20.88578509 ms\n",
      "0.0208857850931 (100%) simulated in < 1s\n",
      "Starting simulation at t=0. s for a duration of 22.21782176 ms\n",
      "0.0222178217612 (100%) simulated in < 1s\n",
      "Starting simulation at t=0. s for a duration of 16.90768543 ms\n",
      "0.016907685428 (100%) simulated in < 1s\n",
      "***********************************\n",
      "Stimulation amplitude (fraction) set to 0.875, which gives a postsynaptic firing fraction of 0.3. Number of iterations: 4\n",
      "***********************************\n",
      "Running with 100 presynaptic neurons, 10 postsynaptic neurons, the shape of the weights is (103,)....\n",
      "Starting simulation at t=0. s for a duration of 29.01665945 s\n",
      "5.0012 (17%) simulated in 10s, estimated 48s remaining.\n",
      "9.5833 (33%) simulated in 20s, estimated 41s remaining.\n",
      "14.301 (49%) simulated in 30s, estimated 31s remaining.\n",
      "19.0702 (65%) simulated in 40s, estimated 21s remaining.\n",
      "24.0777 (82%) simulated in 50s, estimated 10s remaining.\n",
      "28.998 (99%) simulated in 1m 0s, estimated < 1s remaining.\n",
      "29.0166594479 (100%) simulated in 1m 0s\n",
      "('Mean w at the end of the simulation : ', 0.1271699678862699)\n",
      "('OBTAINED RESULT FOR SIMULATION ', 3, ' OF RUN ', 1)\n",
      "SIMULATION NUMBER 4/4 OF RUN NUMBER 1/3\n",
      "varying parameter is N_b\n",
      "Value of N_b=40\n",
      "TRYING TO MAKE VETO WORK!\n",
      "('plasticity_parameters are', {'A_LTP': 0.0075, 'x_trace_LTD': 0.0, 'w_max': 1.0, 'Theta_low': 1.7 * mvolt, 'x_reset': 1.0, 'x_trace_LTP': 0.0, 'v_lowpass2': -70. * mvolt, 'tau_homeo': 1. * second, 'a_prot': 0.18, 'PlasticityRule': 'Clopath', 'v_increase_init': 2. * mvolt, 'ampa_max_cond': 50. * nsiemens, 'tau_lowpass1': 68. * msecond, 'v_homeo': 0, 'A_LTD': 0.0002, 'v_target': 12. * mvolt2, 'tau_lowpass2': 210. * msecond, 'init_weight': 0.125, 'v_lowpass1': -70. * mvolt})\n",
      "Before calibration: 100 presynaptic neurons, 10 postsynaptic neurons, the shape of the weights is (103,)....\n",
      "***********************************\n",
      "Calibration amplitude is 0.875\n",
      "***********************************\n"
     ]
    },
    {
     "name": "stderr",
     "output_type": "stream",
     "text": [
      "INFO       No numerical integration method specified for group 'synapses_2', using method 'euler' (took 0.01s, trying other methods took 0.01s). [brian2.stateupdaters.base.method_choice]\n"
     ]
    },
    {
     "name": "stdout",
     "output_type": "stream",
     "text": [
      "Running with initial weight = 0.125\n",
      "Starting simulation at t=0. s for a duration of 21.67226361 ms\n",
      "0.021672263607 (100%) simulated in < 1s\n",
      "***********************************\n",
      "Initial weight set to 0.125, which gives a postsynaptic response of 1.93816708 mV. Number of iterations: 1\n",
      "***********************************\n",
      "***********************************\n",
      "Initial weight is 0.125\n",
      "***********************************\n",
      "Running with calibration_amplitude = 1\n",
      "Starting simulation at t=0. s for a duration of 19.38256412 ms\n",
      "0.0193825641244 (100%) simulated in < 1s\n",
      "Starting simulation at t=0. s for a duration of 22.46272514 ms\n",
      "0.0224627251413 (100%) simulated in < 1s\n",
      "Starting simulation at t=0. s for a duration of 22.67412321 ms\n",
      "0.0226741232074 (100%) simulated in < 1s\n",
      "Starting simulation at t=0. s for a duration of 20.58212114 ms\n",
      "0.0205821211401 (100%) simulated in < 1s\n",
      "***********************************\n",
      "Stimulation amplitude (fraction) set to 0.875, which gives a postsynaptic firing fraction of 0.2. Number of iterations: 4\n",
      "***********************************\n",
      "Running with 100 presynaptic neurons, 10 postsynaptic neurons, the shape of the weights is (103,)....\n"
     ]
    },
    {
     "name": "stderr",
     "output_type": "stream",
     "text": [
      "INFO       No numerical integration method specified for group 'synapses_2', using method 'euler' (took 0.01s, trying other methods took 0.01s). [brian2.stateupdaters.base.method_choice]\n"
     ]
    },
    {
     "name": "stdout",
     "output_type": "stream",
     "text": [
      "Starting simulation at t=0. s for a duration of 39.02395063 s\n",
      "5.0098 (12%) simulated in 10s, estimated 1m 8s remaining.\n",
      "9.2784 (23%) simulated in 20s, estimated 1m 4s remaining.\n",
      "13.5239 (34%) simulated in 30s, estimated 57s remaining.\n",
      "18.3035 (46%) simulated in 40s, estimated 45s remaining.\n",
      "23.1498 (59%) simulated in 50s, estimated 34s remaining.\n",
      "27.9845 (71%) simulated in 1m 0s, estimated 24s remaining.\n",
      "32.7012 (83%) simulated in 1m 10s, estimated 14s remaining.\n",
      "37.552 (96%) simulated in 1m 20s, estimated 3s remaining.\n",
      "39.0239506309 (100%) simulated in 1m 23s\n",
      "('Mean w at the end of the simulation : ', 0.1278794092704184)\n",
      "('OBTAINED RESULT FOR SIMULATION ', 4, ' OF RUN ', 1)\n",
      "SIMULATION NUMBER 1/4 OF RUN NUMBER 2/3\n",
      "varying parameter is N_b\n",
      "Value of N_b=10\n",
      "TRYING TO MAKE VETO WORK!\n",
      "('plasticity_parameters are', {'A_LTP': 0.0075, 'x_trace_LTD': 0.0, 'w_max': 1.0, 'Theta_low': 1.7 * mvolt, 'x_reset': 1.0, 'x_trace_LTP': 0.0, 'v_lowpass2': -70. * mvolt, 'tau_homeo': 1. * second, 'a_prot': 0.18, 'PlasticityRule': 'Clopath', 'v_increase_init': 2. * mvolt, 'ampa_max_cond': 50. * nsiemens, 'tau_lowpass1': 68. * msecond, 'v_homeo': 0, 'A_LTD': 0.0002, 'v_target': 12. * mvolt2, 'tau_lowpass2': 210. * msecond, 'init_weight': 0.125, 'v_lowpass1': -70. * mvolt})\n",
      "Before calibration: 100 presynaptic neurons, 10 postsynaptic neurons, the shape of the weights is (103,)....\n",
      "***********************************\n",
      "Calibration amplitude is 0.875\n",
      "***********************************\n",
      "Running with initial weight = 0.125\n",
      "Starting simulation at t=0. s for a duration of 20.74199851 ms\n",
      "0.0207419985118 (100%) simulated in < 1s\n",
      "***********************************\n",
      "Initial weight set to 0.125, which gives a postsynaptic response of 1.93816708 mV. Number of iterations: 1\n",
      "***********************************\n",
      "***********************************\n",
      "Initial weight is 0.125\n",
      "***********************************\n",
      "Running with calibration_amplitude = 1\n",
      "Starting simulation at t=0. s for a duration of 15.75501786 ms\n",
      "0.0157550178638 (100%) simulated in < 1s\n",
      "Starting simulation at t=0. s for a duration of 16.17087528 ms\n",
      "0.0161708752782 (100%) simulated in < 1s\n",
      "Starting simulation at t=0. s for a duration of 21.78365949 ms\n",
      "0.0217836594936 (100%) simulated in < 1s\n",
      "Starting simulation at t=0. s for a duration of 21.30647601 ms\n",
      "0.0213064760124 (100%) simulated in < 1s\n",
      "***********************************\n",
      "Stimulation amplitude (fraction) set to 0.875, which gives a postsynaptic firing fraction of 0.2. Number of iterations: 4\n",
      "***********************************\n",
      "Running with 100 presynaptic neurons, 10 postsynaptic neurons, the shape of the weights is (103,)....\n"
     ]
    },
    {
     "name": "stderr",
     "output_type": "stream",
     "text": [
      "INFO       No numerical integration method specified for group 'synapses_1', using method 'euler' (took 0.02s, trying other methods took 0.01s). [brian2.stateupdaters.base.method_choice]\n"
     ]
    },
    {
     "name": "stdout",
     "output_type": "stream",
     "text": [
      "Starting simulation at t=0. s for a duration of 9.01934328 s\n",
      "4.8744 (54%) simulated in 10s, estimated 9s remaining.\n",
      "9.01934327632 (100%) simulated in 18s\n",
      "('Mean w at the end of the simulation : ', 0.12560880474407665)\n",
      "('OBTAINED RESULT FOR SIMULATION ', 1, ' OF RUN ', 2)\n",
      "SIMULATION NUMBER 2/4 OF RUN NUMBER 2/3\n",
      "varying parameter is N_b\n",
      "Value of N_b=20\n",
      "TRYING TO MAKE VETO WORK!\n",
      "('plasticity_parameters are', {'A_LTP': 0.0075, 'x_trace_LTD': 0.0, 'w_max': 1.0, 'Theta_low': 1.7 * mvolt, 'x_reset': 1.0, 'x_trace_LTP': 0.0, 'v_lowpass2': -70. * mvolt, 'tau_homeo': 1. * second, 'a_prot': 0.18, 'PlasticityRule': 'Clopath', 'v_increase_init': 2. * mvolt, 'ampa_max_cond': 50. * nsiemens, 'tau_lowpass1': 68. * msecond, 'v_homeo': 0, 'A_LTD': 0.0002, 'v_target': 12. * mvolt2, 'tau_lowpass2': 210. * msecond, 'init_weight': 0.125, 'v_lowpass1': -70. * mvolt})\n",
      "Before calibration: 100 presynaptic neurons, 10 postsynaptic neurons, the shape of the weights is (103,)....\n",
      "***********************************\n",
      "Calibration amplitude is 0.875\n",
      "***********************************\n",
      "Running with initial weight = 0.125\n",
      "Starting simulation at t=0. s for a duration of 16.88462653 ms\n",
      "0.0168846265279 (100%) simulated in < 1s\n",
      "***********************************\n",
      "Initial weight set to 0.125, which gives a postsynaptic response of 1.93816708 mV. Number of iterations: 1\n",
      "***********************************\n",
      "***********************************\n",
      "Initial weight is 0.125\n",
      "***********************************\n",
      "Running with calibration_amplitude = 1\n",
      "Starting simulation at t=0. s for a duration of 24.35198642 ms\n",
      "0.0243519864205 (100%) simulated in < 1s\n",
      "Starting simulation at t=0. s for a duration of 16.92943783 ms\n",
      "0.0169294378276 (100%) simulated in < 1s\n",
      "Starting simulation at t=0. s for a duration of 19.85394457 ms\n",
      "0.0198539445656 (100%) simulated in < 1s\n",
      "Starting simulation at t=0. s for a duration of 17.43164105 ms\n",
      "0.0174316410458 (100%) simulated in < 1s\n",
      "***********************************\n",
      "Stimulation amplitude (fraction) set to 0.875, which gives a postsynaptic firing fraction of 0.2. Number of iterations: 4\n",
      "***********************************\n",
      "Running with 100 presynaptic neurons, 10 postsynaptic neurons, the shape of the weights is (103,)....\n"
     ]
    },
    {
     "name": "stderr",
     "output_type": "stream",
     "text": [
      "INFO       No numerical integration method specified for group 'synapses_2', using method 'euler' (took 0.01s, trying other methods took 0.01s). [brian2.stateupdaters.base.method_choice]\n"
     ]
    },
    {
     "name": "stdout",
     "output_type": "stream",
     "text": [
      "Starting simulation at t=0. s for a duration of 19.01595598 s\n",
      "4.8104 (25%) simulated in 10s, estimated 30s remaining.\n",
      "9.6517 (50%) simulated in 20s, estimated 19s remaining.\n",
      "14.4519 (75%) simulated in 30s, estimated 9s remaining.\n",
      "19.0159559766 (100%) simulated in 39s\n",
      "('Mean w at the end of the simulation : ', 0.12642549542592502)\n",
      "('OBTAINED RESULT FOR SIMULATION ', 2, ' OF RUN ', 2)\n",
      "SIMULATION NUMBER 3/4 OF RUN NUMBER 2/3\n",
      "varying parameter is N_b\n",
      "Value of N_b=30\n",
      "TRYING TO MAKE VETO WORK!\n",
      "('plasticity_parameters are', {'A_LTP': 0.0075, 'x_trace_LTD': 0.0, 'w_max': 1.0, 'Theta_low': 1.7 * mvolt, 'x_reset': 1.0, 'x_trace_LTP': 0.0, 'v_lowpass2': -70. * mvolt, 'tau_homeo': 1. * second, 'a_prot': 0.18, 'PlasticityRule': 'Clopath', 'v_increase_init': 2. * mvolt, 'ampa_max_cond': 50. * nsiemens, 'tau_lowpass1': 68. * msecond, 'v_homeo': 0, 'A_LTD': 0.0002, 'v_target': 12. * mvolt2, 'tau_lowpass2': 210. * msecond, 'init_weight': 0.125, 'v_lowpass1': -70. * mvolt})\n",
      "Before calibration: 100 presynaptic neurons, 10 postsynaptic neurons, the shape of the weights is (103,)....\n",
      "***********************************\n",
      "Calibration amplitude is 0.875\n",
      "***********************************\n",
      "Running with initial weight = 0.125\n",
      "Starting simulation at t=0. s for a duration of 21.67803144 ms\n",
      "0.0216780314397 (100%) simulated in < 1s\n",
      "***********************************\n",
      "Initial weight set to 0.125, which gives a postsynaptic response of 1.93816708 mV. Number of iterations: 1\n",
      "***********************************\n",
      "***********************************\n",
      "Initial weight is 0.125\n",
      "***********************************\n",
      "Running with calibration_amplitude = 1\n",
      "Starting simulation at t=0. s for a duration of 18.23876893 ms\n",
      "0.0182387689284 (100%) simulated in < 1s\n",
      "Starting simulation at t=0. s for a duration of 21.70120497 ms\n",
      "0.0217012049669 (100%) simulated in < 1s\n",
      "Starting simulation at t=0. s for a duration of 22.68372585 ms\n",
      "0.0226837258507 (100%) simulated in < 1s\n",
      "Starting simulation at t=0. s for a duration of 21.37407705 ms\n",
      "0.0213740770496 (100%) simulated in < 1s\n",
      "Starting simulation at t=0. s for a duration of 16.59604846 ms\n",
      "0.0165960484613 (100%) simulated in < 1s\n",
      "Starting simulation at t=0. s for a duration of 20.79458623 ms\n",
      "0.0207945862275 (100%) simulated in < 1s\n",
      "***********************************\n",
      "Stimulation amplitude (fraction) set to 0.90625, which gives a postsynaptic firing fraction of 0.3. Number of iterations: 6\n",
      "***********************************\n",
      "Running with 100 presynaptic neurons, 10 postsynaptic neurons, the shape of the weights is (103,)....\n",
      "Starting simulation at t=0. s for a duration of 29.0174661 s\n",
      "4.7092 (16%) simulated in 10s, estimated 52s remaining.\n",
      "9.3963 (32%) simulated in 20s, estimated 42s remaining.\n",
      "14.2241 (49%) simulated in 30s, estimated 31s remaining.\n",
      "18.9987 (65%) simulated in 40s, estimated 21s remaining.\n",
      "23.7653 (81%) simulated in 50s, estimated 11s remaining.\n",
      "28.649 (98%) simulated in 1m 0s, estimated 1s remaining.\n",
      "29.0174661014 (100%) simulated in 1m 0s\n",
      "('Mean w at the end of the simulation : ', 0.12915213527420694)\n",
      "('OBTAINED RESULT FOR SIMULATION ', 3, ' OF RUN ', 2)\n",
      "SIMULATION NUMBER 4/4 OF RUN NUMBER 2/3\n",
      "varying parameter is N_b\n",
      "Value of N_b=40\n",
      "TRYING TO MAKE VETO WORK!\n",
      "('plasticity_parameters are', {'A_LTP': 0.0075, 'x_trace_LTD': 0.0, 'w_max': 1.0, 'Theta_low': 1.7 * mvolt, 'x_reset': 1.0, 'x_trace_LTP': 0.0, 'v_lowpass2': -70. * mvolt, 'tau_homeo': 1. * second, 'a_prot': 0.18, 'PlasticityRule': 'Clopath', 'v_increase_init': 2. * mvolt, 'ampa_max_cond': 50. * nsiemens, 'tau_lowpass1': 68. * msecond, 'v_homeo': 0, 'A_LTD': 0.0002, 'v_target': 12. * mvolt2, 'tau_lowpass2': 210. * msecond, 'init_weight': 0.125, 'v_lowpass1': -70. * mvolt})\n",
      "Before calibration: 100 presynaptic neurons, 10 postsynaptic neurons, the shape of the weights is (103,)....\n",
      "***********************************\n",
      "Calibration amplitude is 0.90625\n",
      "***********************************\n",
      "Running with initial weight = 0.125\n",
      "Starting simulation at t=0. s for a duration of 19.64874075 ms\n",
      "0.0196487407494 (100%) simulated in < 1s\n",
      "***********************************\n",
      "Initial weight set to 0.125, which gives a postsynaptic response of 1.93816708 mV. Number of iterations: 1\n",
      "***********************************\n",
      "***********************************\n",
      "Initial weight is 0.125\n",
      "***********************************\n",
      "Running with calibration_amplitude = 1\n",
      "Starting simulation at t=0. s for a duration of 17.34366919 ms\n",
      "0.0173436691894 (100%) simulated in < 1s\n",
      "Starting simulation at t=0. s for a duration of 18.00725763 ms\n",
      "0.0180072576283 (100%) simulated in < 1s\n",
      "Starting simulation at t=0. s for a duration of 20.63463327 ms\n",
      "0.020634633269 (100%) simulated in < 1s\n",
      "Starting simulation at t=0. s for a duration of 18.03489808 ms\n",
      "0.0180348980814 (100%) simulated in < 1s\n",
      "***********************************\n",
      "Stimulation amplitude (fraction) set to 0.875, which gives a postsynaptic firing fraction of 0.2. Number of iterations: 4\n",
      "***********************************\n",
      "Running with 100 presynaptic neurons, 10 postsynaptic neurons, the shape of the weights is (103,)....\n",
      "Starting simulation at t=0. s for a duration of 39.01972653 s\n",
      "4.7551 (12%) simulated in 10s, estimated 1m 12s remaining.\n",
      "9.5884 (24%) simulated in 20s, estimated 1m 1s remaining.\n",
      "14.2928 (36%) simulated in 30s, estimated 52s remaining.\n",
      "19.0571 (48%) simulated in 40s, estimated 42s remaining.\n",
      "23.8662 (61%) simulated in 50s, estimated 32s remaining.\n",
      "28.5729 (73%) simulated in 1m 0s, estimated 22s remaining.\n",
      "33.3249 (85%) simulated in 1m 10s, estimated 12s remaining.\n",
      "38.0533 (97%) simulated in 1m 20s, estimated 2s remaining.\n",
      "39.0197265285 (100%) simulated in 1m 22s\n",
      "('Mean w at the end of the simulation : ', 0.12784474379147032)\n",
      "('OBTAINED RESULT FOR SIMULATION ', 4, ' OF RUN ', 2)\n",
      "SIMULATION NUMBER 1/4 OF RUN NUMBER 3/3\n",
      "varying parameter is N_b\n",
      "Value of N_b=10\n",
      "TRYING TO MAKE VETO WORK!\n",
      "('plasticity_parameters are', {'A_LTP': 0.0075, 'x_trace_LTD': 0.0, 'w_max': 1.0, 'Theta_low': 1.7 * mvolt, 'x_reset': 1.0, 'x_trace_LTP': 0.0, 'v_lowpass2': -70. * mvolt, 'tau_homeo': 1. * second, 'a_prot': 0.18, 'PlasticityRule': 'Clopath', 'v_increase_init': 2. * mvolt, 'ampa_max_cond': 50. * nsiemens, 'tau_lowpass1': 68. * msecond, 'v_homeo': 0, 'A_LTD': 0.0002, 'v_target': 12. * mvolt2, 'tau_lowpass2': 210. * msecond, 'init_weight': 0.125, 'v_lowpass1': -70. * mvolt})\n",
      "Before calibration: 100 presynaptic neurons, 10 postsynaptic neurons, the shape of the weights is (103,)....\n",
      "***********************************\n",
      "Calibration amplitude is 0.875\n",
      "***********************************\n",
      "Running with initial weight = 0.125\n",
      "Starting simulation at t=0. s for a duration of 19.89927741 ms\n",
      "0.0198992774138 (100%) simulated in < 1s\n",
      "***********************************\n",
      "Initial weight set to 0.125, which gives a postsynaptic response of 1.93816708 mV. Number of iterations: 1\n",
      "***********************************\n",
      "***********************************\n",
      "Initial weight is 0.125\n",
      "***********************************\n",
      "Running with calibration_amplitude = 1\n",
      "Starting simulation at t=0. s for a duration of 21.94342348 ms\n",
      "0.0219434234767 (100%) simulated in < 1s\n",
      "Starting simulation at t=0. s for a duration of 21.52591234 ms\n",
      "0.0215259123413 (100%) simulated in < 1s\n",
      "Starting simulation at t=0. s for a duration of 21.26647288 ms\n",
      "0.0212664728831 (100%) simulated in < 1s\n",
      "Starting simulation at t=0. s for a duration of 18.21390433 ms\n",
      "0.0182139043312 (100%) simulated in < 1s\n",
      "Starting simulation at t=0. s for a duration of 15.71401595 ms\n",
      "0.0157140159505 (100%) simulated in < 1s\n",
      "Starting simulation at t=0. s for a duration of 21.74202176 ms\n",
      "0.0217420217599 (100%) simulated in < 1s\n",
      "***********************************\n",
      "Stimulation amplitude (fraction) set to 0.90625, which gives a postsynaptic firing fraction of 0.3. Number of iterations: 6\n",
      "***********************************\n",
      "Running with 100 presynaptic neurons, 10 postsynaptic neurons, the shape of the weights is (103,)....\n",
      "Starting simulation at t=0. s for a duration of 9.02242003 s\n",
      "4.9498 (54%) simulated in 10s, estimated 8s remaining.\n",
      "9.02242003105 (100%) simulated in 18s\n",
      "('Mean w at the end of the simulation : ', 0.12641720743951912)\n",
      "('OBTAINED RESULT FOR SIMULATION ', 1, ' OF RUN ', 3)\n",
      "SIMULATION NUMBER 2/4 OF RUN NUMBER 3/3\n",
      "varying parameter is N_b\n",
      "Value of N_b=20\n",
      "TRYING TO MAKE VETO WORK!\n",
      "('plasticity_parameters are', {'A_LTP': 0.0075, 'x_trace_LTD': 0.0, 'w_max': 1.0, 'Theta_low': 1.7 * mvolt, 'x_reset': 1.0, 'x_trace_LTP': 0.0, 'v_lowpass2': -70. * mvolt, 'tau_homeo': 1. * second, 'a_prot': 0.18, 'PlasticityRule': 'Clopath', 'v_increase_init': 2. * mvolt, 'ampa_max_cond': 50. * nsiemens, 'tau_lowpass1': 68. * msecond, 'v_homeo': 0, 'A_LTD': 0.0002, 'v_target': 12. * mvolt2, 'tau_lowpass2': 210. * msecond, 'init_weight': 0.125, 'v_lowpass1': -70. * mvolt})\n"
     ]
    },
    {
     "name": "stdout",
     "output_type": "stream",
     "text": [
      "Before calibration: 100 presynaptic neurons, 10 postsynaptic neurons, the shape of the weights is (103,)....\n",
      "***********************************\n",
      "Calibration amplitude is 0.90625\n",
      "***********************************\n",
      "Running with initial weight = 0.125\n",
      "Starting simulation at t=0. s for a duration of 21.11623847 ms\n",
      "0.0211162384688 (100%) simulated in < 1s\n",
      "***********************************\n",
      "Initial weight set to 0.125, which gives a postsynaptic response of 1.93816708 mV. Number of iterations: 1\n",
      "***********************************\n",
      "***********************************\n",
      "Initial weight is 0.125\n",
      "***********************************\n",
      "Running with calibration_amplitude = 1\n",
      "Starting simulation at t=0. s for a duration of 22.15878501 ms\n",
      "0.0221587850074 (100%) simulated in < 1s\n",
      "Starting simulation at t=0. s for a duration of 20.9676471 ms\n",
      "0.0209676471012 (100%) simulated in < 1s\n",
      "Starting simulation at t=0. s for a duration of 17.54326278 ms\n",
      "0.0175432627794 (100%) simulated in < 1s\n",
      "Starting simulation at t=0. s for a duration of 24.15697733 ms\n",
      "0.0241569773291 (100%) simulated in < 1s\n",
      "***********************************\n",
      "Stimulation amplitude (fraction) set to 0.875, which gives a postsynaptic firing fraction of 0.2. Number of iterations: 4\n",
      "***********************************\n",
      "Running with 100 presynaptic neurons, 10 postsynaptic neurons, the shape of the weights is (103,)....\n",
      "Starting simulation at t=0. s for a duration of 19.01796833 s\n",
      "4.7727 (25%) simulated in 10s, estimated 30s remaining.\n",
      "9.5597 (50%) simulated in 20s, estimated 20s remaining.\n",
      "14.2987 (75%) simulated in 30s, estimated 10s remaining.\n",
      "19.0179683255 (100%) simulated in 39s\n",
      "('Mean w at the end of the simulation : ', 0.12645103726173115)\n",
      "('OBTAINED RESULT FOR SIMULATION ', 2, ' OF RUN ', 3)\n",
      "SIMULATION NUMBER 3/4 OF RUN NUMBER 3/3\n",
      "varying parameter is N_b\n",
      "Value of N_b=30\n",
      "TRYING TO MAKE VETO WORK!\n",
      "('plasticity_parameters are', {'A_LTP': 0.0075, 'x_trace_LTD': 0.0, 'w_max': 1.0, 'Theta_low': 1.7 * mvolt, 'x_reset': 1.0, 'x_trace_LTP': 0.0, 'v_lowpass2': -70. * mvolt, 'tau_homeo': 1. * second, 'a_prot': 0.18, 'PlasticityRule': 'Clopath', 'v_increase_init': 2. * mvolt, 'ampa_max_cond': 50. * nsiemens, 'tau_lowpass1': 68. * msecond, 'v_homeo': 0, 'A_LTD': 0.0002, 'v_target': 12. * mvolt2, 'tau_lowpass2': 210. * msecond, 'init_weight': 0.125, 'v_lowpass1': -70. * mvolt})\n",
      "Before calibration: 100 presynaptic neurons, 10 postsynaptic neurons, the shape of the weights is (103,)....\n",
      "***********************************\n",
      "Calibration amplitude is 0.875\n",
      "***********************************\n",
      "Running with initial weight = 0.125\n",
      "Starting simulation at t=0. s for a duration of 17.34976433 ms\n",
      "0.0173497643302 (100%) simulated in < 1s\n",
      "***********************************\n",
      "Initial weight set to 0.125, which gives a postsynaptic response of 1.93816708 mV. Number of iterations: 1\n",
      "***********************************\n",
      "***********************************\n",
      "Initial weight is 0.125\n",
      "***********************************\n",
      "Running with calibration_amplitude = 1\n",
      "Starting simulation at t=0. s for a duration of 22.18089704 ms\n",
      "0.0221808970434 (100%) simulated in < 1s\n",
      "Starting simulation at t=0. s for a duration of 16.77300936 ms\n",
      "0.0167730093632 (100%) simulated in < 1s\n",
      "Starting simulation at t=0. s for a duration of 21.87032344 ms\n",
      "0.0218703234415 (100%) simulated in < 1s\n",
      "Starting simulation at t=0. s for a duration of 22.92985108 ms\n",
      "0.0229298510766 (100%) simulated in < 1s\n",
      "Starting simulation at t=0. s for a duration of 22.65076265 ms\n",
      "0.0226507626513 (100%) simulated in < 1s\n",
      "Starting simulation at t=0. s for a duration of 23.70061071 ms\n",
      "0.0237006107107 (100%) simulated in < 1s\n",
      "Starting simulation at t=0. s for a duration of 19.54966423 ms\n",
      "0.0195496642328 (100%) simulated in < 1s\n",
      "Starting simulation at t=0. s for a duration of 20.0550001 ms\n",
      "0.0200550000974 (100%) simulated in < 1s\n",
      "***********************************\n",
      "Stimulation amplitude (fraction) set to 0.8828125, which gives a postsynaptic firing fraction of 0.2. Number of iterations: 8\n",
      "***********************************\n",
      "Running with 100 presynaptic neurons, 10 postsynaptic neurons, the shape of the weights is (103,)....\n",
      "Starting simulation at t=0. s for a duration of 29.02372934 s\n",
      "4.9809 (17%) simulated in 10s, estimated 48s remaining.\n",
      "9.9111 (34%) simulated in 20s, estimated 39s remaining.\n",
      "14.8071 (51%) simulated in 30s, estimated 29s remaining.\n",
      "19.5522 (67%) simulated in 40s, estimated 19s remaining.\n",
      "24.3013 (83%) simulated in 50s, estimated 10s remaining.\n",
      "28.694 (98%) simulated in 1m 0s, estimated 1s remaining.\n",
      "29.0237293418 (100%) simulated in 1m 0s\n",
      "('Mean w at the end of the simulation : ', 0.1286793802327003)\n",
      "('OBTAINED RESULT FOR SIMULATION ', 3, ' OF RUN ', 3)\n",
      "SIMULATION NUMBER 4/4 OF RUN NUMBER 3/3\n",
      "varying parameter is N_b\n",
      "Value of N_b=40\n",
      "TRYING TO MAKE VETO WORK!\n",
      "('plasticity_parameters are', {'A_LTP': 0.0075, 'x_trace_LTD': 0.0, 'w_max': 1.0, 'Theta_low': 1.7 * mvolt, 'x_reset': 1.0, 'x_trace_LTP': 0.0, 'v_lowpass2': -70. * mvolt, 'tau_homeo': 1. * second, 'a_prot': 0.18, 'PlasticityRule': 'Clopath', 'v_increase_init': 2. * mvolt, 'ampa_max_cond': 50. * nsiemens, 'tau_lowpass1': 68. * msecond, 'v_homeo': 0, 'A_LTD': 0.0002, 'v_target': 12. * mvolt2, 'tau_lowpass2': 210. * msecond, 'init_weight': 0.125, 'v_lowpass1': -70. * mvolt})\n",
      "Before calibration: 100 presynaptic neurons, 10 postsynaptic neurons, the shape of the weights is (103,)....\n",
      "***********************************\n",
      "Calibration amplitude is 0.8828125\n",
      "***********************************\n",
      "Running with initial weight = 0.125\n",
      "Starting simulation at t=0. s for a duration of 19.61237235 ms\n",
      "0.0196123723484 (100%) simulated in < 1s\n",
      "***********************************\n",
      "Initial weight set to 0.125, which gives a postsynaptic response of 1.93816708 mV. Number of iterations: 1\n",
      "***********************************\n",
      "***********************************\n",
      "Initial weight is 0.125\n",
      "***********************************\n",
      "Running with calibration_amplitude = 1\n",
      "Starting simulation at t=0. s for a duration of 16.95154334 ms\n",
      "0.0169515433421 (100%) simulated in < 1s\n",
      "Starting simulation at t=0. s for a duration of 19.79349238 ms\n",
      "0.0197934923802 (100%) simulated in < 1s\n",
      "Starting simulation at t=0. s for a duration of 21.03545093 ms\n",
      "0.0210354509341 (100%) simulated in < 1s\n",
      "Starting simulation at t=0. s for a duration of 17.22813771 ms\n",
      "0.0172281377141 (100%) simulated in < 1s\n",
      "***********************************\n",
      "Stimulation amplitude (fraction) set to 0.875, which gives a postsynaptic firing fraction of 0.2. Number of iterations: 4\n",
      "***********************************\n",
      "Running with 100 presynaptic neurons, 10 postsynaptic neurons, the shape of the weights is (103,)....\n",
      "Starting simulation at t=0. s for a duration of 39.01652689 s\n",
      "4.7091 (12%) simulated in 10s, estimated 1m 13s remaining.\n",
      "9.4506 (24%) simulated in 20s, estimated 1m 3s remaining.\n",
      "14.2458 (36%) simulated in 30s, estimated 52s remaining.\n",
      "19.1005 (48%) simulated in 40s, estimated 42s remaining.\n",
      "23.9335 (61%) simulated in 50s, estimated 32s remaining.\n",
      "28.7757 (73%) simulated in 1m 0s, estimated 21s remaining.\n",
      "33.5209 (85%) simulated in 1m 10s, estimated 11s remaining.\n",
      "38.3142 (98%) simulated in 1m 20s, estimated 1s remaining.\n",
      "39.0165268889 (100%) simulated in 1m 21s\n",
      "('Mean w at the end of the simulation : ', 0.12774776612070576)\n",
      "('OBTAINED RESULT FOR SIMULATION ', 4, ' OF RUN ', 3)\n"
     ]
    }
   ],
   "source": [
    "ex_veto, m_veto, array2plot_veto, w_mean_end_veto, w_single_end_veto, idx_end_veto, leg_veto = main_runner(save_in_path = False, \n",
    "                    path = '../GD/', show_fig = True, spike_plot = False,\n",
    "                    clopath = True, veto = True, triplet_parameters = wc.Visual_plasticity_parameters,\n",
    "                    poisson_pop = False,\n",
    "                    same_connectivity_matrix = True, \n",
    "                    adaptation = 'no', three_adapt_methods = False,\n",
    "                    w_distrib = True,\n",
    "                    N_b_val = 1, delta_val = 1.*Hz, N_B_val = 1, Delta_val_interval = 0.01*second,\n",
    "                    std_sim_cal = 3.*ms,\n",
    "                    nr_points = 4,\n",
    "                    N_b = True, delta = False, N_B = False, Delta = False,\n",
    "                    N_b_min = 10, N_b_max = 40, \n",
    "                    delta_min = 1.*Hz, delta_max = 100.*Hz, \t\n",
    "                    N_B_min = 1, N_B_max = 60,\n",
    "                    Delta_min = 1.*second, Delta_max = 1.*60.*second,\n",
    "                    nr_runs = 3)"
   ]
  },
  {
   "cell_type": "markdown",
   "metadata": {},
   "source": [
    "### Plot the results"
   ]
  },
  {
   "cell_type": "markdown",
   "metadata": {},
   "source": [
    "#### 1. The time evolution of the mean of the weights"
   ]
  },
  {
   "cell_type": "code",
   "execution_count": 3,
   "metadata": {},
   "outputs": [
    {
     "data": {
      "text/plain": [
       "Text(0.5,1,'Mean w varying Nb with veto rule, average over three runs (Sjostrom)')"
      ]
     },
     "execution_count": 3,
     "metadata": {},
     "output_type": "execute_result"
    },
    {
     "data": {
      "image/png": "[encoded data removed]",
      "text/plain": [
       "<Figure size 432x288 with 1 Axes>"
      ]
     },
     "metadata": {},
     "output_type": "display_data"
    },
    {
     "data": {
      "image/png": "[encoded data removed]",
      "text/plain": [
       "<Figure size 432x288 with 1 Axes>"
      ]
     },
     "metadata": {},
     "output_type": "display_data"
    }
   ],
   "source": [
    "# plots for veto\n",
    "plt.figure()\n",
    "for i in range(np.shape(w_mean_end_veto)[1]):\n",
    "    plt.plot(array2plot_veto,w_mean_end_veto[:,i], '-o', label='run '+str(i))\n",
    "plt.ylabel('Mean weight at the end of protocol', fontsize = 14)\n",
    "plt.xlabel('Nb', fontsize = 14)\n",
    "plt.legend()\n",
    "plt.title('Mean w varying Nb with veto rule (Sjostrom)')\n",
    "plt.show\n",
    "\n",
    "plt.figure()\n",
    "plt.plot(array2plot_veto,np.mean(w_mean_end_veto,1), '-o')\n",
    "plt.ylabel('Mean weight at the end of protocol', fontsize = 14)\n",
    "plt.xlabel('Nb', fontsize = 14)\n",
    "plt.legend()\n",
    "plt.title('Mean w varying Nb with veto rule, average over three runs (Sjostrom)')"
   ]
  },
  {
   "cell_type": "markdown",
   "metadata": {},
   "source": [
    "#### 2. The evolution of some single synapses"
   ]
  },
  {
   "cell_type": "code",
   "execution_count": null,
   "metadata": {},
   "outputs": [],
   "source": [
    "no_syn = 2\n",
    "leg = [0]*no_syn\n",
    "min_syn = 80\n",
    "cnt = 0\n",
    "plt.figure()\n",
    "for i in range(min_syn,min_syn+no_syn):\n",
    "    plt.plot(m2['syn_monitor'].t, m2['syn_monitor'].w_ampa[i])\n",
    "    leg[cnt]='syn'+str(i)\n",
    "    cnt+=1\n",
    "    plt.xlabel('Time (s)')\n",
    "    plt.ylabel('Weight')\n",
    "plt.legend(leg2)\n",
    "plt.show()"
   ]
  },
  {
   "cell_type": "markdown",
   "metadata": {},
   "source": [
    "#### 3. The weight distribution"
   ]
  },
  {
   "cell_type": "code",
   "execution_count": 5,
   "metadata": {},
   "outputs": [
    {
     "data": {
      "text/plain": [
       "<matplotlib.legend.Legend at 0x7f8afba0fc90>"
      ]
     },
     "execution_count": 5,
     "metadata": {},
     "output_type": "execute_result"
    },
    {
     "data": {
      "image/png": "[encoded data removed]",
      "text/plain": [
       "<Figure size 432x288 with 1 Axes>"
      ]
     },
     "metadata": {},
     "output_type": "display_data"
    }
   ],
   "source": [
    "nr_points = 1\n",
    "nr_runs = 1\n",
    "for i in range(nr_points):\n",
    "    plt.figure()\n",
    "    for j in range(nr_runs):\n",
    "        until = np.int(idx_end_veto[i,j])\n",
    "        plt.hist(w_single_end_veto[i,j,0:until], bins = 50, alpha = 0.3, label = 'run {}'.format(j+1))\n",
    "    \n",
    "    plt.ylabel('Occurrency', fontsize = 14)\n",
    "    plt.xlabel('Weight value at the end of protocol', fontsize = 14)\n",
    "plt.legend()"
   ]
  },
  {
   "cell_type": "markdown",
   "metadata": {},
   "source": [
    "#### 4. The pre and post synaptic spikes "
   ]
  },
  {
   "cell_type": "code",
   "execution_count": null,
   "metadata": {
    "scrolled": false
   },
   "outputs": [],
   "source": [
    "plt.figure()\n",
    "plot_spikes(m)\n",
    "plt.xlim([0,0.3])"
   ]
  },
  {
   "cell_type": "code",
   "execution_count": null,
   "metadata": {},
   "outputs": [],
   "source": [
    "plt.figure()\n",
    "plot_spikes(m2)\n",
    "plt.xlim([0,0.1])"
   ]
  },
  {
   "cell_type": "markdown",
   "metadata": {},
   "source": [
    "#### 5. For the triplet rule, the time evolution of the parameters o1, o2, r1 and r2"
   ]
  },
  {
   "cell_type": "code",
   "execution_count": null,
   "metadata": {},
   "outputs": [],
   "source": [
    "def plot_o_r(i,xmin=10,xmax=15):\n",
    "    plt.figure()\n",
    "    plt.plot(m['syn_monitor'].t, m['syn_monitor'].r_1[i], label='r_1')\n",
    "    plt.plot(m['syn_monitor'].t, m['syn_monitor'].r_2[i], label='r_2')\n",
    "    plt.plot(m['syn_monitor'].t, m['syn_monitor'].o_1[i], label='o_1')\n",
    "    plt.plot(m['syn_monitor'].t, m['syn_monitor'].o_2[i], label='o_2')\n",
    "    #leg[i] = 'Synapse ' + str(i)\n",
    "\n",
    "    plt.xlabel('Time (s)')\n",
    "    plt.ylabel('Parameters')\n",
    "    plt.legend()\n",
    "\n",
    "    plt.title('Parameters evolution for weight '+str(i))\n",
    "\n",
    "    #plt.ylim([1,9])\n",
    "    #plt.xlim([xmin,xmax])\n",
    "\n",
    "    plt.show()"
   ]
  },
  {
   "cell_type": "code",
   "execution_count": null,
   "metadata": {
    "scrolled": true
   },
   "outputs": [],
   "source": [
    "plot_o_r(i=0)"
   ]
  },
  {
   "cell_type": "code",
   "execution_count": null,
   "metadata": {},
   "outputs": [],
   "source": [
    "plot_o_r(i=1)"
   ]
  },
  {
   "cell_type": "code",
   "execution_count": null,
   "metadata": {},
   "outputs": [],
   "source": [
    "plot_o_r(i=20)"
   ]
  },
  {
   "cell_type": "code",
   "execution_count": null,
   "metadata": {},
   "outputs": [],
   "source": [
    "plot_o_r(i=31)\n"
   ]
  },
  {
   "cell_type": "code",
   "execution_count": null,
   "metadata": {},
   "outputs": [],
   "source": [
    "plot_o_r(i=4)"
   ]
  },
  {
   "cell_type": "code",
   "execution_count": null,
   "metadata": {},
   "outputs": [],
   "source": [
    "plot_o_r(i=5)"
   ]
  },
  {
   "cell_type": "code",
   "execution_count": null,
   "metadata": {},
   "outputs": [],
   "source": [
    "plot_o_r(i=6)"
   ]
  },
  {
   "cell_type": "code",
   "execution_count": null,
   "metadata": {},
   "outputs": [],
   "source": [
    "plot_o_r(i=7)"
   ]
  },
  {
   "cell_type": "code",
   "execution_count": null,
   "metadata": {},
   "outputs": [],
   "source": [
    "plot_o_r(i=8)"
   ]
  },
  {
   "cell_type": "code",
   "execution_count": null,
   "metadata": {},
   "outputs": [],
   "source": [
    "plot_o_r(i=9,xmin=10,xmax=15)"
   ]
  },
  {
   "cell_type": "code",
   "execution_count": null,
   "metadata": {},
   "outputs": [],
   "source": [
    "plot_o_r(i=10)"
   ]
  },
  {
   "cell_type": "code",
   "execution_count": null,
   "metadata": {},
   "outputs": [],
   "source": [
    "plot_o_r(i=11)"
   ]
  },
  {
   "cell_type": "markdown",
   "metadata": {},
   "source": [
    "Expected values of r_1 and r_2 given the rate of presynaptic input"
   ]
  },
  {
   "cell_type": "code",
   "execution_count": null,
   "metadata": {},
   "outputs": [],
   "source": [
    "# SET THE PARAMETERS\n",
    "f_pre = 1.*Hz   # here set the presynpatic firing rate\n",
    "f_post = 1/(5.*ms)  # here set the postsynaptic firing rate (eg refractory time)\n",
    "f_post = 1.*Hz\n",
    "#parameters = 'Visual'  # here set 'Visual' or 'Hippo'\n",
    "parameters = 'Hippo'\n",
    "\n",
    "# YOU DON'T NEED TO CHANGE THIS PART\n",
    "if parameters == 'Visual':\n",
    "    tau_x = 101.*ms\n",
    "    tau_y = 125.*ms\n",
    "elif parameters == 'Hippo':\n",
    "    tau_x = 946.*ms\n",
    "    tau_y = 27.*ms\n",
    "    \n",
    "tau_plus = 16.8*ms\n",
    "tau_minus = 33.7*ms\n",
    "\n",
    "# here the equilibrium point is computed\n",
    "r1 = 1/(1-np.exp(-1/(tau_plus*f_pre)))\n",
    "print('r_1 at equilibrium is: r_1 = ',r1)\n",
    "r2 = 1/(1-np.exp(-1/(tau_x*f_pre)))\n",
    "print('r_2 at equilibrium is: r_2 = ',r2)\n",
    "o1 = 1/(1-np.exp(-1/(tau_minus*f_post)))\n",
    "print('o_1 at equilibrium is: o_1 = ',o1)\n",
    "o2 = 1/(1-np.exp(-1/(tau_y*f_post)))\n",
    "print('o_2 at equilibrium is: o_2 = ',o2)"
   ]
  },
  {
   "cell_type": "markdown",
   "metadata": {},
   "source": [
    "Increasing and decreasing terms"
   ]
  },
  {
   "cell_type": "code",
   "execution_count": null,
   "metadata": {},
   "outputs": [],
   "source": [
    "A_LTP_2 = 5e-10\n",
    "A_LTD_2 = 7e-3\n",
    "A_LTP_3 = 6.2e-3\n",
    "A_LTD_3 = 2.3e-4\n",
    "\n",
    "r1_dec = r1-1\n",
    "r2_dec = r2-1\n",
    "o1_dec = o1-1\n",
    "o2_dec = o2-1\n",
    "\n",
    "# increasing\n",
    "w_incr = r1_dec*(A_LTP_2 + A_LTP_3 * o2_dec)\n",
    "print('increasing term is ',w_incr)\n",
    "# decreasing\n",
    "w_decr = -o1_dec*(A_LTD_2 + A_LTD_3 * r2_dec)\n",
    "print('decreasing term is ', w_decr)"
   ]
  },
  {
   "cell_type": "code",
   "execution_count": null,
   "metadata": {},
   "outputs": [],
   "source": []
  },
  {
   "cell_type": "code",
   "execution_count": null,
   "metadata": {},
   "outputs": [],
   "source": []
  },
  {
   "cell_type": "code",
   "execution_count": null,
   "metadata": {},
   "outputs": [],
   "source": []
  },
  {
   "cell_type": "code",
   "execution_count": null,
   "metadata": {},
   "outputs": [],
   "source": []
  }
 ],
 "metadata": {
  "kernelspec": {
   "display_name": "Python 2",
   "language": "python",
   "name": "python2"
  },
  "language_info": {
   "codemirror_mode": {
    "name": "ipython",
    "version": 2
   },
   "file_extension": ".py",
   "mimetype": "text/x-python",
   "name": "python",
   "nbconvert_exporter": "python",
   "pygments_lexer": "ipython2",
   "version": "2.7.15"
  }
 },
 "nbformat": 4,
 "nbformat_minor": 2
}
