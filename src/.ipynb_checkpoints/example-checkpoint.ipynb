{
 "cells": [
  {
   "cell_type": "markdown",
   "metadata": {},
   "source": [
    "# Script running a stimulation protocol from Ziegler 2015"
   ]
  },
  {
   "cell_type": "markdown",
   "metadata": {},
   "source": [
    "By Matthias Tsai 15/11/2018\n",
    "\n",
    "First attempt to write script and get framework to work according to one specific setting.\n",
    "\n",
    "\n",
    "Specs: <br/>\n",
    "Python 2.7.15 <br/>\n",
    "Brian 2.2 <br/>\n",
    "Numpy 1.15.1 <br/>\n",
    "Matplotlib 2.2.3 <br/>"
   ]
  },
  {
   "cell_type": "markdown",
   "metadata": {},
   "source": [
    "## 1. Imports"
   ]
  },
  {
   "cell_type": "code",
   "execution_count": 1,
   "metadata": {},
   "outputs": [],
   "source": [
    "from brian2 import *\n",
    "import weight_class as wc\n",
    "# import weight_class_veto as wc\n",
    "from plot_triplet_parameters import *"
   ]
  },
  {
   "cell_type": "markdown",
   "metadata": {},
   "source": [
    "## 2. Initializations"
   ]
  },
  {
   "cell_type": "markdown",
   "metadata": {},
   "source": [
    "### 2.1. Chose the settings you want"
   ]
  },
  {
   "cell_type": "code",
   "execution_count": 2,
   "metadata": {},
   "outputs": [],
   "source": [
    "# Simulation choices\n",
    "rule_name = 'Clopath' # can be either of 'Clopath' or 'Triplet'\n",
    "protocol = 'wLFS' # can be either of sTET, wTET, sLFS, wLFS or STDP\n",
    "neuron_types = 'Adex' # can be either of default, LIF, exIF, Adex or Ziegler\n",
    "path = '/home/chi/Documents/Study/LCN/project/fig/' # directory where to save resulting figures\n",
    "\n",
    "# Set to debug mode if debugging code and False for production\n",
    "debug = True"
   ]
  },
  {
   "cell_type": "markdown",
   "metadata": {},
   "source": [
    "### 2.2. Compute some parameters accordign to chosen settings"
   ]
  },
  {
   "cell_type": "code",
   "execution_count": 3,
   "metadata": {},
   "outputs": [],
   "source": [
    "# Presynaptic stimulation protocol parameters\n",
    "if protocol:\n",
    "    protocol_parameters = {'test': wc.testing_protocol_parameters,\n",
    "                           'sTET': wc.sTET_protocol_parameters, \n",
    "                           'wTET': wc.wTET_protocol_parameters, \n",
    "                           'sLFS': wc.sLFS_protocol_parameters, \n",
    "                           'wLFS': wc.wLFS_protocol_parameters, \n",
    "                           'STDP': wc.default_protocol_parameters}[protocol]\n",
    "else:\n",
    "    protocol_parameters = wc.testing_protocol_parameters\n",
    "\n",
    "# Presynaptic neuron parameters\n",
    "pre_neuron_parameters = wc.ziegler_pre_parameters\n",
    "\n",
    "# Refractory Behaviour\n",
    "adaptation = {'LIF': False,\n",
    "              'exIF': False,\n",
    "              'Adex': True}[neuron_types]\n",
    "if neuron_types == 'Adex':\n",
    "    neuron_types = 'exIF'\n",
    "\n",
    "# Postsynaptic neuron parameters\n",
    "post_neuron_parameters = {'default': wc.default_post_neuron_parameters,\n",
    "                         'LIF': wc.LIF_post_parameters,\n",
    "                         'exIF': wc.exIF_post_parameters,\n",
    "                         'Ziegler': wc.ziegler_post_parameters}[neuron_types]  \n",
    "\n",
    "# Plasticity parameters\n",
    "if rule_name is 'Clopath':\n",
    "    if post_neuron_parameters['model'] == 'exIF':\n",
    "        plasticity_parameters = wc.Clopath_exIF_parameters\n",
    "    else:\n",
    "        plasticity_parameters = wc.Clopath_LIF_parameters\n",
    "elif rule_name is 'Claire':\n",
    "    if post_neuron_parameters['model'] == 'exIF':\n",
    "        plasticity_parameters = wc.Claire_exIF_parameters\n",
    "    else:\n",
    "        plasticity_parameters = wc.Claire_parameters\n",
    "else:\n",
    "    plasticity_parameters = wc.Hippo_plasticity_parameters"
   ]
  },
  {
   "cell_type": "markdown",
   "metadata": {},
   "source": [
    "## 2.3. Final initialization of the system"
   ]
  },
  {
   "cell_type": "code",
   "execution_count": 4,
   "metadata": {},
   "outputs": [
    {
     "name": "stdout",
     "output_type": "stream",
     "text": [
      "\n",
      "Initialization:\n",
      "139689984\n",
      "nr presynaptic neurons 500\n",
      "fraction presynaptic stimulated = 1\n",
      "nr presynaptic neurons firing per stimulation pulse = 500\n",
      "('synapse made according to ', 'Clopath')\n",
      "Initialized Simulation with:\n",
      "- Simulation time: 9.14035273726\n",
      "- Neuron model: exIF\n",
      "- Stimulation protocol: sLFS\n",
      "- Parameters {'std': 1. * msecond, 'hro': 20. * hertz, 'stimulation_amplitude': 1, 'protocol_type': 'sLFS', 'fraction': 0.25, 'nr_blocks': 10, 'nr_pulses': 3, 'window': 1. * second, 'stimulation_type': 'extracellular'}\n",
      "- Plasticity model: Clopath\n",
      "\n",
      "\n",
      "Calibrating weights:\n",
      "nr presynaptic neurons 1\n",
      "fraction presynaptic stimulated = 1\n",
      "nr presynaptic neurons firing per stimulation pulse = 1\n",
      "('synapse made according to ', 'Clopath')\n",
      "Initial weights = 0.35\n",
      "\n",
      "Running Simulation:\n",
      "before initialization, w.shape = (1,)\n",
      "147001344\n",
      "Starting simulation at t=0. s for a duration of 40.43474625 ms\n",
      "0.0404347462505 (100%) simulated in < 1s\n",
      "*******************************************************************************************************\n",
      "Initial weights set to 0.35, which gives a postsynaptic response of 1.98285418 mV\n",
      "*******************************************************************************************************\n",
      "\n",
      "Calibrating presynaptic stimulation amplitude:\n",
      "nr presynaptic neurons 500\n",
      "fraction presynaptic stimulated = 0.255\n",
      "nr presynaptic neurons firing per stimulation pulse = 127\n",
      "('synapse made according to ', 'Clopath')\n",
      "Run with calibration_amplitude = 0.255\n",
      "\n",
      "Running Simulation:\n",
      "before initialization, w.shape = (5059,)\n",
      "149811200\n",
      "Starting simulation at t=0. s for a duration of 40.67344274 ms\n",
      "0.0406734427385 (100%) simulated in < 1s\n",
      "fraction = 36/100\n",
      "presynaptic spike fraction = 127.0/500 = 0.254\n",
      "nr presynaptic neurons 500\n",
      "fraction presynaptic stimulated = 0.1275\n",
      "nr presynaptic neurons firing per stimulation pulse = 63\n",
      "('synapse made according to ', 'Clopath')\n",
      "(0.255, 0, 0.1275)\n",
      "Fraction is 0.36\n",
      "('Running with calibration_amplitude = ', 0.1275)\n",
      "\n",
      "Running Simulation:\n",
      "before initialization, w.shape = (4924,)\n",
      "150290432\n",
      "Starting simulation at t=0. s for a duration of 40.37656121 ms\n",
      "0.0403765612073 (100%) simulated in < 1s\n",
      "fraction = 0/100 = 0.0\n",
      "presynaptic spike fraction = 63.0/500 = 0.126\n",
      "nr presynaptic neurons 500\n",
      "fraction presynaptic stimulated = 0.19125\n",
      "nr presynaptic neurons firing per stimulation pulse = 95\n",
      "('synapse made according to ', 'Clopath')\n",
      "(0.255, 0.1275, 0.19125)\n",
      "Fraction is 0.0\n",
      "('Running with calibration_amplitude = ', 0.19125)\n",
      "\n",
      "Running Simulation:\n",
      "before initialization, w.shape = (5045,)\n",
      "150630400\n",
      "Starting simulation at t=0. s for a duration of 40.94195652 ms\n",
      "0.0409419565156 (100%) simulated in < 1s\n",
      "fraction = 5/100 = 0.05\n",
      "presynaptic spike fraction = 95.0/500 = 0.19\n",
      "nr presynaptic neurons 500\n",
      "fraction presynaptic stimulated = 0.223125\n",
      "nr presynaptic neurons firing per stimulation pulse = 111\n",
      "('synapse made according to ', 'Clopath')\n",
      "(0.255, 0.19125, 0.22312500000000002)\n",
      "Fraction is 0.05\n",
      "('Running with calibration_amplitude = ', 0.22312500000000002)\n",
      "\n",
      "Running Simulation:\n",
      "before initialization, w.shape = (5097,)\n",
      "150630400\n",
      "Starting simulation at t=0. s for a duration of 40.49491491 ms\n",
      "0.0404949149102 (100%) simulated in < 1s\n",
      "fraction = 18/100 = 0.18\n",
      "presynaptic spike fraction = 111.0/500 = 0.222\n",
      "nr presynaptic neurons 500\n",
      "fraction presynaptic stimulated = 0.2390625\n",
      "nr presynaptic neurons firing per stimulation pulse = 119\n",
      "('synapse made according to ', 'Clopath')\n",
      "(0.255, 0.22312500000000002, 0.2390625)\n",
      "Fraction is 0.18\n",
      "('Running with calibration_amplitude = ', 0.2390625)\n",
      "\n",
      "Running Simulation:\n",
      "before initialization, w.shape = (5080,)\n",
      "150630400\n",
      "Starting simulation at t=0. s for a duration of 43.58267194 ms\n",
      "0.0435826719422 (100%) simulated in 1s\n",
      "fraction = 28/100 = 0.28\n",
      "presynaptic spike fraction = 119.0/500 = 0.238\n",
      "nr presynaptic neurons 500\n",
      "fraction presynaptic stimulated = 0.2390625\n",
      "nr presynaptic neurons firing per stimulation pulse = 119\n",
      "First spike at 0.0200181755794\n",
      "('synapse made according to ', 'Clopath')\n",
      "*******************************************************************************************************\n",
      "Stimulation amplitude (fraction) set to 0.2390625, which gives a postsynaptic firing fraction of 0.28\n",
      "*******************************************************************************************************\n"
     ]
    }
   ],
   "source": [
    "# Initialize main class \n",
    "ex = wc.PlasticityProtocol(pre_neuron_parameters=pre_neuron_parameters,\n",
    "                           post_neuron_parameters=post_neuron_parameters,\n",
    "                           protocol_parameters=protocol_parameters,\n",
    "                           plasticity_parameters=plasticity_parameters,\n",
    "                           same_connectivity_matrix=True, # Repeatedly use same random seeds if True\n",
    "                           adaptation=adaptation,\n",
    "                           debug= debug)\n",
    "# Calibration of weights to generate an EPSP of 2mV by a single rpesnypatic spike\n",
    "ex.calibrate_w_init(std_cal=protocol_parameters['std'])\n",
    "# Calibration of stimulation amplitude to ensure that 25 percent of postsynaptic neurons fire\n",
    "ex.calibrate_amplitude(std_cal=protocol_parameters['std'])\n",
    "# Define which values will be monitored/saved during the simulation\n",
    "record_pre = None\n",
    "record_syn = 'w_ampa'\n",
    "# record_syn = ['w_ampa','wLTP','wLTD']\n",
    "record_post = None#'v'\n"
   ]
  },
  {
   "cell_type": "markdown",
   "metadata": {},
   "source": [
    "## 3. Run simulation"
   ]
  },
  {
   "cell_type": "code",
   "execution_count": 5,
   "metadata": {},
   "outputs": [
    {
     "name": "stdout",
     "output_type": "stream",
     "text": [
      "\n",
      "Running Simulation:\n",
      "before initialization, w.shape = (4937,)\n",
      "150630400\n",
      "Starting simulation at t=0. s for a duration of 9.14035274 s\n",
      "0.37715 (4%) simulated in 10s, estimated 3m 52s remaining.\n",
      "0.81429 (8%) simulated in 20s, estimated 3m 25s remaining.\n",
      "1.20183 (13%) simulated in 30s, estimated 3m 18s remaining.\n",
      "1.55133 (16%) simulated in 40s, estimated 3m 16s remaining.\n",
      "1.92918 (21%) simulated in 50s, estimated 3m 7s remaining.\n",
      "2.39646 (26%) simulated in 1m 0s, estimated 2m 49s remaining.\n",
      "2.85815 (31%) simulated in 1m 10s, estimated 2m 34s remaining.\n",
      "3.32516 (36%) simulated in 1m 20s, estimated 2m 20s remaining.\n",
      "3.72731 (40%) simulated in 1m 30s, estimated 2m 11s remaining.\n",
      "4.10016 (44%) simulated in 1m 40s, estimated 2m 3s remaining.\n",
      "4.46006 (48%) simulated in 1m 50s, estimated 1m 55s remaining.\n",
      "4.71855 (51%) simulated in 2m 0s, estimated 1m 52s remaining.\n",
      "5.00472 (54%) simulated in 2m 10s, estimated 1m 47s remaining.\n",
      "5.32183 (58%) simulated in 2m 20s, estimated 1m 40s remaining.\n",
      "5.67421 (62%) simulated in 2m 30s, estimated 1m 32s remaining.\n",
      "5.91476 (64%) simulated in 2m 40s, estimated 1m 27s remaining.\n",
      "6.10952 (66%) simulated in 2m 50s, estimated 1m 24s remaining.\n",
      "6.35841 (69%) simulated in 3m 0s, estimated 1m 19s remaining.\n",
      "6.67385 (73%) simulated in 3m 10s, estimated 1m 10s remaining.\n",
      "6.92847 (75%) simulated in 3m 20s, estimated 1m 4s remaining.\n",
      "7.2099 (78%) simulated in 3m 30s, estimated 56s remaining.\n",
      "7.51454 (82%) simulated in 3m 40s, estimated 48s remaining.\n",
      "7.79774 (85%) simulated in 3m 50s, estimated 40s remaining.\n",
      "7.99652 (87%) simulated in 4m 0s, estimated 34s remaining.\n",
      "8.19455 (89%) simulated in 4m 10s, estimated 29s remaining.\n",
      "8.43482 (92%) simulated in 4m 20s, estimated 22s remaining.\n",
      "8.6499 (94%) simulated in 4m 30s, estimated 15s remaining.\n",
      "8.79331 (96%) simulated in 4m 40s, estimated 11s remaining.\n",
      "8.95584 (97%) simulated in 4m 50s, estimated 6s remaining.\n",
      "9.14035273726 (100%) simulated in 4m 59s\n"
     ]
    }
   ],
   "source": [
    "m = ex.run(syn_parameters=record_syn, pre_parameters=record_pre, post_parameters=record_post, pre_spikes=True, \n",
    "           post_spikes=True)\n",
    "w_mean_end_LTP = np.mean(m['syn_monitor'].w_ampa, 0)[-1]\n",
    "w_single_end = m['syn_monitor'].w_ampa[:, -1]  # these are the weights at the end of LTP\n",
    "stimulation_amplitude = protocol_parameters['stimulation_amplitude']  # this is the amplitude used for LTP\n",
    "w_mean_all_LTP = np.mean(m['syn_monitor'].w_ampa, 0)\n"
   ]
  },
  {
   "cell_type": "markdown",
   "metadata": {},
   "source": [
    "## 4. Plot results"
   ]
  },
  {
   "cell_type": "code",
   "execution_count": 6,
   "metadata": {},
   "outputs": [
    {
     "name": "stdout",
     "output_type": "stream",
     "text": [
      "number of pre spike trains: 10\n",
      "number of post spike trains: 10\n",
      "(100, 10)\n"
     ]
    },
    {
     "data": {
      "image/png": "[encoded data removed]",
      "text/plain": [
       "<Figure size 1584x360 with 1 Axes>"
      ]
     },
     "metadata": {
      "needs_background": "light"
     },
     "output_type": "display_data"
    },
    {
     "data": {
      "image/png": "[encoded data removed]",
      "text/plain": [
       "<Figure size 1584x360 with 1 Axes>"
      ]
     },
     "metadata": {
      "needs_background": "light"
     },
     "output_type": "display_data"
    }
   ],
   "source": [
    "plt.rcParams['figure.figsize'] = (22,5)\n",
    "\n",
    "# # plot final weight distribution\n",
    "# plt.hist(w_single_end, bins=50, alpha=0.3)\n",
    "# plt.ylabel('Occurrency', fontsize=14)\n",
    "# plt.xlabel('Weight value at the end of LTP', fontsize=14)\n",
    "# plt.show()\n",
    "# if path is not None:\n",
    "#     plt.savefig(path + \"weight_hist_after_LTP.pdf\", format=\"PDF\")\n",
    "\n",
    "# Plot spikes in time\n",
    "plt.figure()\n",
    "plot_spikes(m, title='Spikes,Nb={},d={},NB={},D={}'.format(wc.testing_protocol_parameters['nr_pulses'],\n",
    "                                                           wc.testing_protocol_parameters['hro'],\n",
    "                                                           wc.testing_protocol_parameters['nr_blocks'],\n",
    "                                                           wc.testing_protocol_parameters['window']))\n",
    "plt.show()\n",
    "\n",
    "\n",
    "# Plot weight dynamics\n",
    "nr = m['syn_monitor'].w_ampa.shape[1]\n",
    "time = list(range(nr))\n",
    "w_avg = np.mean(m['syn_monitor'].w_ampa, 0)\n",
    "w_std = np.std(m['syn_monitor'].w_ampa, 0)\n",
    "kwargs = {'color':'y'}\n",
    "plt.figure()\n",
    "plt.plot(w_avg, 'k')\n",
    "plt.fill_between(time, np.clip(w_avg-w_std, 0, None), w_avg+w_std, **kwargs)\n",
    "plt.show()"
   ]
  },
  {
   "cell_type": "code",
   "execution_count": 7,
   "metadata": {},
   "outputs": [],
   "source": [
    "nr = 100\n",
    "a = [10000] * nr\n",
    "for i in range(nr):\n",
    "    if m['post_spikes'].spike_trains()[i].size != 0:\n",
    "        a[i] = m['post_spikes'].spike_trains()[i][0]/ms\n",
    "k = np.argmin(a)"
   ]
  },
  {
   "cell_type": "code",
   "execution_count": 8,
   "metadata": {},
   "outputs": [
    {
     "ename": "KeyError",
     "evalue": "'post_monitor'",
     "output_type": "error",
     "traceback": [
      "\u001b[0;31m---------------------------------------------------------------------------\u001b[0m",
      "\u001b[0;31mKeyError\u001b[0m                                  Traceback (most recent call last)",
      "\u001b[0;32m<ipython-input-8-3c87d8ec7e7d>\u001b[0m in \u001b[0;36m<module>\u001b[0;34m()\u001b[0m\n\u001b[0;32m----> 1\u001b[0;31m \u001b[0ml\u001b[0m \u001b[0;34m=\u001b[0m \u001b[0mm\u001b[0m\u001b[0;34m[\u001b[0m\u001b[0;34m'post_monitor'\u001b[0m\u001b[0;34m]\u001b[0m\u001b[0;34m.\u001b[0m\u001b[0mv\u001b[0m\u001b[0;34m.\u001b[0m\u001b[0mshape\u001b[0m\u001b[0;34m[\u001b[0m\u001b[0;36m1\u001b[0m\u001b[0;34m]\u001b[0m\u001b[0;34m-\u001b[0m\u001b[0;36m1\u001b[0m\u001b[0;34m\u001b[0m\u001b[0m\n\u001b[0m\u001b[1;32m      2\u001b[0m \u001b[0mplt\u001b[0m\u001b[0;34m.\u001b[0m\u001b[0mfigure\u001b[0m\u001b[0;34m(\u001b[0m\u001b[0;34m)\u001b[0m\u001b[0;34m\u001b[0m\u001b[0m\n\u001b[1;32m      3\u001b[0m \u001b[0mplt\u001b[0m\u001b[0;34m.\u001b[0m\u001b[0mplot\u001b[0m\u001b[0;34m(\u001b[0m\u001b[0mm\u001b[0m\u001b[0;34m[\u001b[0m\u001b[0;34m'post_monitor'\u001b[0m\u001b[0;34m]\u001b[0m\u001b[0;34m.\u001b[0m\u001b[0mv\u001b[0m\u001b[0;34m[\u001b[0m\u001b[0mk\u001b[0m\u001b[0;34m]\u001b[0m\u001b[0;34m)\u001b[0m\u001b[0;34m\u001b[0m\u001b[0m\n\u001b[1;32m      4\u001b[0m \u001b[0;31m# plt.plot([0,l],[plasticity_parameters['Theta_low'],plasticity_parameters['Theta_low']])\u001b[0m\u001b[0;34m\u001b[0m\u001b[0;34m\u001b[0m\u001b[0m\n\u001b[1;32m      5\u001b[0m \u001b[0;31m# plt.plot([0,l],[plasticity_parameters['Theta_high'],plasticity_parameters['Theta_high']])\u001b[0m\u001b[0;34m\u001b[0m\u001b[0;34m\u001b[0m\u001b[0m\n",
      "\u001b[0;31mKeyError\u001b[0m: 'post_monitor'"
     ]
    }
   ],
   "source": [
    "l = m['post_monitor'].v.shape[1]-1\n",
    "plt.figure()\n",
    "plt.plot(m['post_monitor'].v[k])\n",
    "# plt.plot([0,l],[plasticity_parameters['Theta_low'],plasticity_parameters['Theta_low']])\n",
    "# plt.plot([0,l],[plasticity_parameters['Theta_high'],plasticity_parameters['Theta_high']])\n",
    "plt.show()"
   ]
  },
  {
   "cell_type": "code",
   "execution_count": null,
   "metadata": {},
   "outputs": [],
   "source": []
  }
 ],
 "metadata": {
  "kernelspec": {
   "display_name": "Python 2",
   "language": "python",
   "name": "python2"
  },
  "language_info": {
   "codemirror_mode": {
    "name": "ipython",
    "version": 2
   },
   "file_extension": ".py",
   "mimetype": "text/x-python",
   "name": "python",
   "nbconvert_exporter": "python",
   "pygments_lexer": "ipython2",
   "version": "2.7.15"
  }
 },
 "nbformat": 4,
 "nbformat_minor": 2
}
